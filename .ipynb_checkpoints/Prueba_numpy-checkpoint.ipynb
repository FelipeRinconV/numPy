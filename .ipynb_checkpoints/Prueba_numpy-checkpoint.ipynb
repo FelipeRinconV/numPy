{
 "cells": [
  {
   "cell_type": "code",
   "execution_count": 27,
   "metadata": {},
   "outputs": [],
   "source": [
    "import numpy as np\n",
    "\n",
    "import matplotlib.pyplot  as plt"
   ]
  },
  {
   "cell_type": "code",
   "execution_count": 25,
   "metadata": {},
   "outputs": [
    {
     "ename": "NameError",
     "evalue": "name 'plt' is not defined",
     "output_type": "error",
     "traceback": [
      "\u001b[0;31m---------------------------------------------------------------------------\u001b[0m",
      "\u001b[0;31mNameError\u001b[0m                                 Traceback (most recent call last)",
      "\u001b[0;32m<ipython-input-25-fca0540d34e1>\u001b[0m in \u001b[0;36m<module>\u001b[0;34m\u001b[0m\n\u001b[1;32m      4\u001b[0m \u001b[0;34m\u001b[0m\u001b[0m\n\u001b[1;32m      5\u001b[0m \u001b[0;34m\u001b[0m\u001b[0m\n\u001b[0;32m----> 6\u001b[0;31m \u001b[0mplt\u001b[0m\u001b[0;34m.\u001b[0m\u001b[0mplot\u001b[0m\u001b[0;34m(\u001b[0m\u001b[0mx\u001b[0m\u001b[0;34m,\u001b[0m\u001b[0my\u001b[0m\u001b[0;34m)\u001b[0m\u001b[0;34m\u001b[0m\u001b[0;34m\u001b[0m\u001b[0m\n\u001b[0m\u001b[1;32m      7\u001b[0m \u001b[0;34m\u001b[0m\u001b[0m\n\u001b[1;32m      8\u001b[0m \u001b[0mplt\u001b[0m\u001b[0;34m.\u001b[0m\u001b[0mshow\u001b[0m\u001b[0;34m(\u001b[0m\u001b[0;34m)\u001b[0m\u001b[0;34m\u001b[0m\u001b[0;34m\u001b[0m\u001b[0m\n",
      "\u001b[0;31mNameError\u001b[0m: name 'plt' is not defined"
     ]
    }
   ],
   "source": [
    "x = np.linspace(0,2,15)\n",
    "\n",
    "y = np.cos(x)\n",
    "\n",
    "\n",
    "plt.plot(x,y)\n",
    "\n",
    "plt.show()\n"
   ]
  },
  {
   "cell_type": "code",
   "execution_count": null,
   "metadata": {},
   "outputs": [],
   "source": []
  },
  {
   "cell_type": "code",
   "execution_count": 3,
   "metadata": {},
   "outputs": [],
   "source": [
    "m = np.identity(3)"
   ]
  },
  {
   "cell_type": "code",
   "execution_count": 4,
   "metadata": {},
   "outputs": [
    {
     "name": "stdout",
     "output_type": "stream",
     "text": [
      "[[1. 0. 0.]\n",
      " [0. 1. 0.]\n",
      " [0. 0. 1.]]\n"
     ]
    }
   ],
   "source": [
    "print(m)"
   ]
  },
  {
   "cell_type": "code",
   "execution_count": 5,
   "metadata": {},
   "outputs": [],
   "source": [
    "#Operaciones\n"
   ]
  },
  {
   "cell_type": "code",
   "execution_count": 11,
   "metadata": {},
   "outputs": [
    {
     "name": "stdout",
     "output_type": "stream",
     "text": [
      "[[15. 15. 15. 15. 15.]\n",
      " [15. 15. 15. 15. 15.]\n",
      " [15. 15. 15. 15. 15.]\n",
      " [15. 15. 15. 15. 15.]]\n",
      "[[-7. -7. -7. -7. -7.]\n",
      " [-7. -7. -7. -7. -7.]\n",
      " [-7. -7. -7. -7. -7.]\n",
      " [-7. -7. -7. -7. -7.]]\n",
      "[[44. 44. 44. 44. 44.]\n",
      " [44. 44. 44. 44. 44.]\n",
      " [44. 44. 44. 44. 44.]\n",
      " [44. 44. 44. 44. 44.]]\n",
      "[[0.36363636 0.36363636 0.36363636 0.36363636 0.36363636]\n",
      " [0.36363636 0.36363636 0.36363636 0.36363636 0.36363636]\n",
      " [0.36363636 0.36363636 0.36363636 0.36363636 0.36363636]\n",
      " [0.36363636 0.36363636 0.36363636 0.36363636 0.36363636]]\n",
      "[[220. 220. 220. 220.]\n",
      " [220. 220. 220. 220.]\n",
      " [220. 220. 220. 220.]\n",
      " [220. 220. 220. 220.]]\n",
      "(4, 5)\n",
      "(5, 4)\n"
     ]
    }
   ],
   "source": [
    "m5= np.ones((4,5)) * 4\n",
    "m6=np.ones((5,4)) +10\n",
    "\n",
    "print(m5 + m6.T)\n",
    "print(m5 - m6.T)\n",
    "print(m5 * m6.T)\n",
    "print(m5 / m6.T)\n",
    "\n",
    "\n",
    "print(m5.dot(m6))\n",
    "\n",
    "\n",
    "print(m5.shape)\n",
    "print(m6.shape)"
   ]
  },
  {
   "cell_type": "code",
   "execution_count": 14,
   "metadata": {},
   "outputs": [
    {
     "name": "stdout",
     "output_type": "stream",
     "text": [
      "[0.         0.11111111 0.22222222 0.33333333 0.44444444 0.55555556\n",
      " 0.66666667 0.77777778 0.88888889 1.        ]\n",
      "[0.         0.12322831 0.26978046 0.43830581 0.62748723 0.83605736\n",
      " 1.06281425 1.30663615 1.56649538 1.84147098]\n"
     ]
    }
   ],
   "source": [
    "x = np.linspace(0,1,10)\n",
    "\n",
    "y= x ** 2 + np.sin(x)\n",
    "\n",
    "print(x)\n",
    "print(y)"
   ]
  },
  {
   "cell_type": "code",
   "execution_count": 15,
   "metadata": {},
   "outputs": [
    {
     "name": "stdout",
     "output_type": "stream",
     "text": [
      "[[0.85387648 0.71804026 0.37560217]\n",
      " [0.21479656 0.19220219 0.34304263]\n",
      " [0.12536646 0.45662741 0.88979825]]\n"
     ]
    }
   ],
   "source": [
    "m7 = np.random.random((3,3))\n",
    "\n",
    "print(m7)"
   ]
  },
  {
   "cell_type": "code",
   "execution_count": 20,
   "metadata": {},
   "outputs": [
    {
     "name": "stdout",
     "output_type": "stream",
     "text": [
      "[[ True  True False]\n",
      " [False False False]\n",
      " [False False  True]]\n",
      "[[1. 1. 0.]\n",
      " [0. 0. 0.]\n",
      " [0. 0. 1.]]\n"
     ]
    }
   ],
   "source": [
    "print( m7 > 0.5)\n",
    "      \n",
    "      \n",
    "m7[m7>0.5]=1\n",
    "      \n",
    "m7[m7<=0.5]=0\n",
    "      \n",
    "print(m7)"
   ]
  },
  {
   "cell_type": "code",
   "execution_count": 21,
   "metadata": {},
   "outputs": [
    {
     "name": "stdout",
     "output_type": "stream",
     "text": [
      "[ 0  1  2  3  4  5  6  7  8  9 10 11 12 13 14 15 16 17 18 19]\n",
      "[ 1  2  3  4  5  6  7  8  9 10 11]\n"
     ]
    }
   ],
   "source": [
    "a6 = np.arange(20)\n",
    "\n",
    "print(a6)\n",
    "\n",
    "print(a6[1:12])"
   ]
  },
  {
   "cell_type": "code",
   "execution_count": null,
   "metadata": {},
   "outputs": [],
   "source": [
    "m9= np.random.random(())"
   ]
  },
  {
   "cell_type": "code",
   "execution_count": null,
   "metadata": {},
   "outputs": [],
   "source": [
    "a = "
   ]
  }
 ],
 "metadata": {
  "kernelspec": {
   "display_name": "Python 3",
   "language": "python",
   "name": "python3"
  },
  "language_info": {
   "codemirror_mode": {
    "name": "ipython",
    "version": 3
   },
   "file_extension": ".py",
   "mimetype": "text/x-python",
   "name": "python",
   "nbconvert_exporter": "python",
   "pygments_lexer": "ipython3",
   "version": "3.7.4"
  }
 },
 "nbformat": 4,
 "nbformat_minor": 2
}
